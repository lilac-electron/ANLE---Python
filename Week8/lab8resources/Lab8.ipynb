{
 "cells": [
  {
   "cell_type": "code",
   "execution_count": 12,
   "metadata": {},
   "outputs": [
    {
     "name": "stdout",
     "output_type": "stream",
     "text": [
      "Ranking of english translation\n",
      "0.46262562857056827 [0.46153846153846156, 0.35294117647058826, 0.25, 0.5, 0.29411764705882354, 0.4827586206896552, 0.5263157894736842, 0.8333333333333334]\n",
      "Ranking of french translation\n",
      "0.41715068308205566 [0.4444444444444444, 0.29411764705882354, 0.3333333333333333, 0.5384615384615384, 0.29411764705882354, 0.4594594594594595, 0.36363636363636365, 0.7142857142857143, 0.3125]\n",
      "Ranking spoof\n",
      "0.375 [0.0, 1.0, 0.0, 1.0, 0.0, 1.0, 0.0, 0.0]\n"
     ]
    }
   ],
   "source": [
    "def token_sentences(file_path):\n",
    "    sentences_tokens = []\n",
    "    with open(file_path, 'r') as file:\n",
    "        sentences_unigrams = []\n",
    "        for line in file:\n",
    "        # Split the line into tokens (words)\n",
    "            tokens = line.strip().split()\n",
    "            # Initialize an empty dictionary to store the unigrams and their frequencies\n",
    "            unigram_dict = {}\n",
    "            # Count the frequency of each word in the sentence\n",
    "            for word in tokens:\n",
    "                unigram_dict[word] = unigram_dict.get(word, 0) + 1\n",
    "            # Add the unigram dictionary to the list of sentences_unigrams\n",
    "            if len(unigram_dict) != 0:\n",
    "                sentences_unigrams.append(unigram_dict)\n",
    "    return sentences_unigrams\n",
    "\n",
    "def compare_unigrams(GS, AT):\n",
    "    each_sentence = []\n",
    "    for i in range(len(GS)):\n",
    "        total = 0\n",
    "        crossover = 0\n",
    "        for word in AT[i]:\n",
    "            total+=1\n",
    "            if word in GS[i]:\n",
    "                crossover += 1\n",
    "        each_sentence.append(crossover/total)\n",
    "        #s_total = 0\n",
    "        #s_crossover = 0\n",
    "        #for word in GS[i]:\n",
    "        #    s_total += 1\n",
    "        #    if word in AT[i]:\n",
    "        #        s_crossover += 1\n",
    "        #print(total)\n",
    "        #print(crossover)\n",
    "        #print(crossover/total)\n",
    "        #print(s_total)\n",
    "        #print(s_crossover)\n",
    "        #print(s_crossover/s_total)\n",
    "    combined = 0\n",
    "    for average in each_sentence:\n",
    "        combined+=average\n",
    "    return combined/len(GS), each_sentence\n",
    "        \n",
    "GS_en = token_sentences(\"/Users/finpearson/Desktop/Github/ANLE---Python-/Week8/lab8resources/HarryPotter-en.txt\")\n",
    "GS_fr = token_sentences(\"/Users/finpearson/Desktop/Github/ANLE---Python-/Week8/lab8resources/HarryPotter-fr.txt\")\n",
    "T_en_to_fr = token_sentences(\"/Users/finpearson/Desktop/Github/ANLE---Python-/Week8/lab8resources/HarryPotter-en-to-fr.txt\")\n",
    "T_fr_to_en = token_sentences(\"/Users/finpearson/Desktop/Github/ANLE---Python-/Week8/lab8resources/HarryPotter-fr-en.txt\")\n",
    "spoof_en = token_sentences(\"/Users/finpearson/Desktop/Github/ANLE---Python-/Week8/lab8resources/spoof_en.txt\")\n",
    "ENaverage, ENeach_sentence = compare_unigrams(GS_en, T_fr_to_en)\n",
    "FRaverage, FReach_sentence = compare_unigrams(GS_fr, T_en_to_fr)\n",
    "Spoof_avg, Seach_sentence = compare_unigrams(GS_en, spoof_en)\n",
    "print(\"Ranking of english translation\")\n",
    "print(ENaverage, ENeach_sentence)\n",
    "print(\"Ranking of french translation\")\n",
    "print(FRaverage, FReach_sentence)\n",
    "print(\"Ranking spoof\")\n",
    "print(Spoof_avg, Seach_sentence)"
   ]
  },
  {
   "cell_type": "code",
   "execution_count": null,
   "metadata": {},
   "outputs": [],
   "source": []
  }
 ],
 "metadata": {
  "kernelspec": {
   "display_name": "Python 3.10.0 ('venv': venv)",
   "language": "python",
   "name": "python3"
  },
  "language_info": {
   "codemirror_mode": {
    "name": "ipython",
    "version": 3
   },
   "file_extension": ".py",
   "mimetype": "text/x-python",
   "name": "python",
   "nbconvert_exporter": "python",
   "pygments_lexer": "ipython3",
   "version": "3.10.0"
  },
  "orig_nbformat": 4,
  "vscode": {
   "interpreter": {
    "hash": "e993f6b24e6dadc761550f81b5ca4f85f65c4625eb1dc51cfa1e968282de6f17"
   }
  }
 },
 "nbformat": 4,
 "nbformat_minor": 2
}
